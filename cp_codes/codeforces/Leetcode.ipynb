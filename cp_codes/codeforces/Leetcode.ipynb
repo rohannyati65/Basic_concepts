{
  "nbformat": 4,
  "nbformat_minor": 0,
  "metadata": {
    "colab": {
      "name": "Leetcode.ipynb",
      "provenance": [],
      "collapsed_sections": []
    },
    "kernelspec": {
      "name": "python3",
      "display_name": "Python 3"
    },
    "language_info": {
      "name": "python"
    }
  },
  "cells": [
    {
      "cell_type": "code",
      "metadata": {
        "colab": {
          "base_uri": "https://localhost:8080/"
        },
        "id": "6Kf_k692Njqu",
        "outputId": "1890cb60-5c1e-4f09-946e-93491cf4555a"
      },
      "source": [
        "t=int(input())\n",
        "lst=[]\n",
        "lst2=[]\n",
        "lst1=[]\n",
        "i=0\n",
        "while(t!=0):\n",
        "  n=int(input())\n",
        "  t=t-1\n",
        "  for i in range(n):\n",
        "    k=(n-i-1)\n",
        "    lst.append(k)\n",
        "    if(i==0):\n",
        "      x=(n-i) and k\n",
        "      lst1.append(x)\n",
        "    y = lst1[i] and k \n",
        "    lst1.append(y)\n",
        "    if(y==0):\n",
        "      z=lst[-1]+1\n",
        "      lst2.append(z)\n",
        "      break\n",
        "print('\\n'.join(map(str, lst2)))\n",
        "\n",
        "\n",
        "\n",
        "\n",
        "\n",
        "\n",
        "\n",
        "\n",
        "\n",
        "\n",
        "\n",
        "\n"
      ],
      "execution_count": 13,
      "outputs": [
        {
          "output_type": "stream",
          "text": [
            "3\n",
            "2\n",
            "5\n",
            "17\n",
            "1\n",
            "3\n",
            "15\n"
          ],
          "name": "stdout"
        }
      ]
    }
  ]
}