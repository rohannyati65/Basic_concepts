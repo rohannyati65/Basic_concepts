{
  "nbformat": 4,
  "nbformat_minor": 0,
  "metadata": {
    "colab": {
      "name": "RohanNyati.ipynb",
      "provenance": []
    },
    "kernelspec": {
      "name": "python3",
      "display_name": "Python 3"
    },
    "language_info": {
      "name": "python"
    }
  },
  "cells": [
    {
      "cell_type": "code",
      "metadata": {
        "colab": {
          "base_uri": "https://localhost:8080/"
        },
        "id": "Of7L5uucXEjz",
        "outputId": "3a00bd8c-1270-4273-ae7d-8c6ca869db12"
      },
      "source": [
        "import math\n",
        "\n",
        "t=int(input())\n",
        "i=0\n",
        "while(t!=0):\n",
        "    n=int(input())\n",
        "    k=math.gcd(n,100)\n",
        "    print(int(100/k))\n",
        "    t=t-1"
      ],
      "execution_count": 4,
      "outputs": [
        {
          "output_type": "stream",
          "text": [
            "3\n",
            "3\n",
            "100\n",
            "100\n",
            "1\n",
            "25\n",
            "4\n"
          ],
          "name": "stdout"
        }
      ]
    }
  ]
}